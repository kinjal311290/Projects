{
 "cells": [
  {
   "cell_type": "code",
   "execution_count": null,
   "id": "5bf7ff2a-8f04-4cc6-b0fe-83e260caf469",
   "metadata": {},
   "outputs": [],
   "source": [
    "# Read the three CSV files which contain the score of the same students in term1 of each Subject"
   ]
  },
  {
   "cell_type": "code",
   "execution_count": 1,
   "id": "76a4548e-27e5-410c-8433-9343dba14586",
   "metadata": {},
   "outputs": [
    {
     "name": "stdout",
     "output_type": "stream",
     "text": [
      "Math Scores:\n",
      "             Name  Score  Age         Ethinicity Subject Sex  ID\n",
      "0  AI-KYUNG CHUNG   88.0   18     White American   Maths   M   1\n",
      "1     ALAN HARVEY   85.0   19  European American   Maths   M   2\n",
      "2    ALAN REYNAUD   45.0   19  European American   Maths   M   3\n",
      "3  ALBERT CENDANA   82.0   18     White American   Maths   M   4\n",
      "4  ALBERT HOLT JR   82.0   18     White American   Maths   F   5\n",
      "\n",
      "Data Structures Scores:\n",
      "             Name  Score  Age         Ethinicity        Subject Sex  ID\n",
      "0  AI-KYUNG CHUNG   82.0   18     White American  Data Structue   M   1\n",
      "1     ALAN HARVEY   79.0   19  European American  Data Structue   M   2\n",
      "2    ALAN REYNAUD   39.0   19  European American  Data Structue   M   3\n",
      "3  ALBERT CENDANA   76.0   18     White American  Data Structue   M   4\n",
      "4  ALBERT HOLT JR   76.0   18     White American  Data Structue   F   5\n",
      "\n",
      "Physics Scores:\n",
      "             Name  Score  Age         Ethinicity  Subject Sex  ID\n",
      "0  AI-KYUNG CHUNG   84.0   18     White American  Physics   M   1\n",
      "1     ALAN HARVEY   81.0   19  European American  Physics   M   2\n",
      "2    ALAN REYNAUD   41.0   19  European American  Physics   M   3\n",
      "3  ALBERT CENDANA   78.0   18     White American  Physics   M   4\n",
      "4  ALBERT HOLT JR   78.0   18     White American  Physics   F   5\n"
     ]
    }
   ],
   "source": [
    "import pandas as pd\n",
    "\n",
    "math_df = pd.read_csv(\"C:/Users/kunal/Downloads/Data_Science_with_Phython/Numpy_Pandas_and_Matplotlib_Assignments/Case_Study1/Datasets/MathScoreTerm1.csv\")\n",
    "\n",
    "ds_df = pd.read_csv(\"C:/Users/kunal/Downloads/Data_Science_with_Phython/Numpy_Pandas_and_Matplotlib_Assignments/Case_Study1/Datasets/DSScoreTerm1.csv\")\n",
    "\n",
    "physics_df = pd.read_csv(\"C:/Users/kunal/Downloads/Data_Science_with_Phython/Numpy_Pandas_and_Matplotlib_Assignments/Case_Study1/Datasets/PhysicsScoreTerm1.csv\")\n",
    "\n",
    "print(\"Math Scores:\")\n",
    "print(math_df.head())\n",
    "\n",
    "print(\"\\nData Structures Scores:\")\n",
    "print(ds_df.head())\n",
    "\n",
    "print(\"\\nPhysics Scores:\")\n",
    "print(physics_df.head())"
   ]
  },
  {
   "cell_type": "code",
   "execution_count": null,
   "id": "a6d39045-b0f4-4141-acc8-501c62316366",
   "metadata": {},
   "outputs": [],
   "source": [
    "# Remove the name and ethnicity column (to ensure confidentiality)"
   ]
  },
  {
   "cell_type": "code",
   "execution_count": 24,
   "id": "49f03450-929f-4b51-9b81-6e029dca7abe",
   "metadata": {},
   "outputs": [
    {
     "name": "stdout",
     "output_type": "stream",
     "text": [
      "Math DF Columns: ['Score', 'Age', 'Subject', 'Sex', 'ID']\n",
      "DS DF Columns: ['Score', 'Age', 'Subject', 'Sex', 'ID']\n",
      "Physics DF Columns: ['Score', 'Age', 'Subject', 'Sex', 'ID']\n"
     ]
    }
   ],
   "source": [
    "columns_to_remove = ['Name', 'Ethinicity']\n",
    "\n",
    "for df in [math_df, ds_df, physics_df]:\n",
    "    df.drop(columns=[col for col in columns_to_remove if col in df.columns], inplace=True)\n",
    "\n",
    "print(\"Math DF Columns:\", math_df.columns.tolist())\n",
    "print(\"DS DF Columns:\", ds_df.columns.tolist())\n",
    "print(\"Physics DF Columns:\", physics_df.columns.tolist())"
   ]
  },
  {
   "cell_type": "code",
   "execution_count": null,
   "id": "1eb55583-2f21-4abc-9108-14072ec70b20",
   "metadata": {},
   "outputs": [],
   "source": [
    "# Fill missing score data with zero"
   ]
  },
  {
   "cell_type": "code",
   "execution_count": 30,
   "id": "f9bf6a22-bed7-4a7a-8aaa-4925280e8b6b",
   "metadata": {},
   "outputs": [
    {
     "name": "stdout",
     "output_type": "stream",
     "text": [
      "\n",
      "Missing values after filling:\n",
      "Math DF: 0\n",
      "DS DF: 0\n",
      "Physics DF: 0\n"
     ]
    }
   ],
   "source": [
    "for df in [math_df, ds_df, physics_df]:\n",
    "    df['Score'] = df['Score'].fillna(0)\n",
    "\n",
    "print(\"\\nMissing values after filling:\")\n",
    "print(\"Math DF:\", math_df['Score'].isnull().sum())\n",
    "print(\"DS DF:\", ds_df['Score'].isnull().sum())\n",
    "print(\"Physics DF:\", physics_df['Score'].isnull().sum())"
   ]
  },
  {
   "cell_type": "code",
   "execution_count": null,
   "id": "12e5fc5c-0d3d-452d-80ce-00b421f3bcf1",
   "metadata": {},
   "outputs": [],
   "source": [
    "# Merge the three files"
   ]
  },
  {
   "cell_type": "code",
   "execution_count": 31,
   "id": "349a9d8e-0d89-4851-9ce2-c4fed4071429",
   "metadata": {},
   "outputs": [
    {
     "name": "stdout",
     "output_type": "stream",
     "text": [
      "   ID  Age Sex  Math_Score  DS_Score  Physics_Score\n",
      "0   1   18   M        88.0      82.0           84.0\n",
      "1   2   19   M        85.0      79.0           81.0\n",
      "2   3   19   M        45.0      39.0           41.0\n",
      "3   4   18   M        82.0      76.0           78.0\n",
      "4   5   18   F        82.0      76.0           78.0\n"
     ]
    }
   ],
   "source": [
    "math_df.rename(columns={'Score': 'Math_Score'}, inplace=True)\n",
    "ds_df.rename(columns={'Score': 'DS_Score'}, inplace=True)\n",
    "physics_df.rename(columns={'Score': 'Physics_Score'}, inplace=True)\n",
    "\n",
    "math_df = math_df[['ID', 'Age', 'Sex', 'Math_Score']]\n",
    "ds_df = ds_df[['ID', 'DS_Score']]\n",
    "physics_df = physics_df[['ID', 'Physics_Score']]\n",
    "\n",
    "merged_df = pd.merge(math_df, ds_df, on='ID')\n",
    "merged_df = pd.merge(merged_df, physics_df, on='ID')\n",
    "\n",
    "print(merged_df.head())"
   ]
  },
  {
   "cell_type": "code",
   "execution_count": null,
   "id": "09fededa-8efc-4ca6-83fc-4aac4364c3f1",
   "metadata": {},
   "outputs": [],
   "source": [
    "# Change Sex(M/F) Columnto 1/2 for further analysis"
   ]
  },
  {
   "cell_type": "code",
   "execution_count": 33,
   "id": "481c6622-5940-4246-89b6-4ce56ae5e14a",
   "metadata": {},
   "outputs": [
    {
     "name": "stdout",
     "output_type": "stream",
     "text": [
      "   ID  Age  Sex  Math_Score  DS_Score  Physics_Score\n",
      "0   1   18    1        88.0      82.0           84.0\n",
      "1   2   19    1        85.0      79.0           81.0\n",
      "2   3   19    1        45.0      39.0           41.0\n",
      "3   4   18    1        82.0      76.0           78.0\n",
      "4   5   18    2        82.0      76.0           78.0\n"
     ]
    }
   ],
   "source": [
    "merged_df['Sex'] = merged_df['Sex'].replace({'M': 1, 'F': 2}).astype(int)\n",
    "print(merged_df.head())"
   ]
  },
  {
   "cell_type": "code",
   "execution_count": null,
   "id": "ca24c057-0e21-4822-86c9-c723b2d8f7e7",
   "metadata": {},
   "outputs": [],
   "source": [
    "# Store the data in a new file –ScoreFinal.csv"
   ]
  },
  {
   "cell_type": "code",
   "execution_count": 34,
   "id": "d6612bde-74a5-403e-a469-67985db39f1b",
   "metadata": {},
   "outputs": [
    {
     "name": "stdout",
     "output_type": "stream",
     "text": [
      "Data successfully saved to ScoreFinal.csv\n"
     ]
    }
   ],
   "source": [
    "merged_df.to_csv('ScoreFinal.csv', index=False)\n",
    "print(\"Data successfully saved to ScoreFinal.csv\")"
   ]
  },
  {
   "cell_type": "code",
   "execution_count": null,
   "id": "fc8fffa0-8596-412b-956f-dbe4ce914887",
   "metadata": {},
   "outputs": [],
   "source": []
  }
 ],
 "metadata": {
  "kernelspec": {
   "display_name": "Python [conda env:base] *",
   "language": "python",
   "name": "conda-base-py"
  },
  "language_info": {
   "codemirror_mode": {
    "name": "ipython",
    "version": 3
   },
   "file_extension": ".py",
   "mimetype": "text/x-python",
   "name": "python",
   "nbconvert_exporter": "python",
   "pygments_lexer": "ipython3",
   "version": "3.12.7"
  }
 },
 "nbformat": 4,
 "nbformat_minor": 5
}
