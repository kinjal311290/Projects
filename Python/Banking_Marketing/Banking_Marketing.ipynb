{
 "cells": [
  {
   "cell_type": "code",
   "execution_count": null,
   "id": "929d69c1-8702-442a-a5c4-2d86e62e9e29",
   "metadata": {},
   "outputs": [],
   "source": [
    "# Read file bank-data.csv"
   ]
  },
  {
   "cell_type": "code",
   "execution_count": 2,
   "id": "c6672c13-345b-47d6-b426-6e185e9bd9d7",
   "metadata": {},
   "outputs": [
    {
     "name": "stdout",
     "output_type": "stream",
     "text": [
      "Total records read: 447\n",
      "First 5 records:\n",
      "['20', 'student', 'single', 'yes']\n",
      "['32', 'management', 'single', 'yes']\n",
      "['49', 'technician', 'married', 'yes']\n",
      "['32', 'blue-collar', 'married', 'yes']\n",
      "['33', 'management', 'married', 'yes']\n"
     ]
    }
   ],
   "source": [
    "import csv\n",
    "\n",
    "data = []\n",
    "\n",
    "with open(\"C:/Users/kunal/Downloads/Data_Science_with_Phython/Deep Dive—Functions, OOPs, Modules, Errors, and Exceptions/DataSets/bank-data.csv\", mode='r') as file:\n",
    "    reader = csv.reader(file)\n",
    "    header = next(reader)\n",
    "    \n",
    "    for row in reader:\n",
    "        data.append(row)\n",
    "\n",
    "\n",
    "print(f\"Total records read: {len(data)}\")\n",
    "print(\"First 5 records:\")\n",
    "for record in data[:5]:\n",
    "    print(record)\n"
   ]
  },
  {
   "cell_type": "code",
   "execution_count": null,
   "id": "d6006db6-1c82-4d8e-9280-890d6158a17c",
   "metadata": {},
   "outputs": [],
   "source": [
    "# Build a set of unique jobs"
   ]
  },
  {
   "cell_type": "code",
   "execution_count": 4,
   "id": "74b9d309-3458-40c2-aaeb-8dee814b516f",
   "metadata": {},
   "outputs": [
    {
     "name": "stdout",
     "output_type": "stream",
     "text": [
      "Unique jobs in the dataset:\n",
      "admin.\n",
      "blue-collar\n",
      "entrepreneur\n",
      "housemaid\n",
      "management\n",
      "self-employed\n",
      "services\n",
      "student\n",
      "technician\n"
     ]
    }
   ],
   "source": [
    "import csv\n",
    "\n",
    "data = []\n",
    "\n",
    "with open(\"C:/Users/kunal/Downloads/Data_Science_with_Phython/Deep Dive—Functions, OOPs, Modules, Errors, and Exceptions/DataSets/bank-data.csv\", mode='r') as file:\n",
    "    reader = csv.reader(file)\n",
    "    header = next(reader)\n",
    "\n",
    "\n",
    "    job_index = header.index('job')\n",
    "\n",
    "\n",
    "    for row in reader:\n",
    "        data.append(row)\n",
    "\n",
    "\n",
    "unique_jobs = set()\n",
    "for record in data:\n",
    "    unique_jobs.add(record[job_index])\n",
    "\n",
    "\n",
    "print(\"Unique jobs in the dataset:\")\n",
    "for job in sorted(unique_jobs):\n",
    "    print(job)\n"
   ]
  },
  {
   "cell_type": "code",
   "execution_count": null,
   "id": "3d9e79f0-8c07-453d-a955-62a909c1dc28",
   "metadata": {},
   "outputs": [],
   "source": [
    "# Read the input from the command line –profession"
   ]
  },
  {
   "cell_type": "code",
   "execution_count": 7,
   "id": "161e516e-bbae-4325-8cee-8266efc9109d",
   "metadata": {},
   "outputs": [
    {
     "name": "stdin",
     "output_type": "stream",
     "text": [
      "Enter the profession to check eligibility:  student\n"
     ]
    },
    {
     "name": "stdout",
     "output_type": "stream",
     "text": [
      "✅ 'student' is a valid profession in the dataset.\n"
     ]
    }
   ],
   "source": [
    "import csv\n",
    "\n",
    "def main():\n",
    "    data = []\n",
    "\n",
    "    with open(\"C:/Users/kunal/Downloads/Data_Science_with_Phython/Deep Dive—Functions, OOPs, Modules, Errors, and Exceptions/DataSets/bank-data.csv\", mode='r') as file:\n",
    "        reader = csv.reader(file)\n",
    "        header = next(reader)\n",
    "        job_index = header.index('job')\n",
    "\n",
    "        for row in reader:\n",
    "            data.append(row)\n",
    "\n",
    "    unique_jobs = set(record[job_index].lower() for record in data)\n",
    "\n",
    "    profession = input(\"Enter the profession to check eligibility: \").strip().lower()\n",
    "\n",
    "    if profession in unique_jobs:\n",
    "        print(f\"✅ '{profession}' is a valid profession in the dataset.\")\n",
    "    else:\n",
    "        print(f\"❌ '{profession}' is NOT found in the dataset.\")\n",
    "\n",
    "if __name__ == \"__main__\":\n",
    "    main()\n"
   ]
  },
  {
   "cell_type": "code",
   "execution_count": null,
   "id": "3ace865b-45bc-4c36-b967-1c3e39926f88",
   "metadata": {},
   "outputs": [],
   "source": [
    "# Check if the profession is on the list"
   ]
  },
  {
   "cell_type": "code",
   "execution_count": 8,
   "id": "2e8078a4-8995-419c-8b1e-84a3941f2549",
   "metadata": {},
   "outputs": [
    {
     "name": "stdin",
     "output_type": "stream",
     "text": [
      "Enter the profession to check eligibility:  student\n"
     ]
    },
    {
     "name": "stdout",
     "output_type": "stream",
     "text": [
      "✅ 'student' IS eligible for the campaign.\n"
     ]
    }
   ],
   "source": [
    "import csv\n",
    "\n",
    "def main():\n",
    "    data = []\n",
    "\n",
    "    with open(\"C:/Users/kunal/Downloads/Data_Science_with_Phython/Deep Dive—Functions, OOPs, Modules, Errors, and Exceptions/DataSets/bank-data.csv\", mode='r') as file:\n",
    "        reader = csv.reader(file)\n",
    "        header = next(reader)\n",
    "        job_index = header.index('job')\n",
    "        y_index = header.index('y')\n",
    "\n",
    "        for row in reader:\n",
    "            data.append(row)\n",
    "\n",
    "    eligible_jobs = set(\n",
    "        record[job_index].lower()\n",
    "        for record in data\n",
    "        if record[y_index].strip().lower() == 'yes'\n",
    "    )\n",
    "\n",
    "    profession = input(\"Enter the profession to check eligibility: \").strip().lower()\n",
    "\n",
    "    if profession in eligible_jobs:\n",
    "        print(f\"✅ '{profession}' IS eligible for the campaign.\")\n",
    "    else:\n",
    "        print(f\"❌ '{profession}' is NOT eligible for the campaign.\")\n",
    "\n",
    "if __name__ == \"__main__\":\n",
    "    main()\n"
   ]
  },
  {
   "cell_type": "code",
   "execution_count": null,
   "id": "96f777d6-37b9-4f4a-ae61-583f712a5ebe",
   "metadata": {},
   "outputs": [],
   "source": [
    "# Print whether the client is eligible"
   ]
  },
  {
   "cell_type": "code",
   "execution_count": 9,
   "id": "313af791-738f-4de4-bb0e-7221c4779e45",
   "metadata": {},
   "outputs": [
    {
     "name": "stdin",
     "output_type": "stream",
     "text": [
      "Enter the profession to check eligibility:  management\n"
     ]
    },
    {
     "name": "stdout",
     "output_type": "stream",
     "text": [
      "✅ The client with profession 'management' is ELIGIBLE for the campaign.\n"
     ]
    }
   ],
   "source": [
    "import csv\n",
    "\n",
    "def main():\n",
    "    data = []\n",
    "\n",
    "    with open(\"C:/Users/kunal/Downloads/Data_Science_with_Phython/Deep Dive—Functions, OOPs, Modules, Errors, and Exceptions/DataSets/bank-data.csv\", mode='r') as file:\n",
    "        reader = csv.reader(file)\n",
    "        header = next(reader)\n",
    "        job_index = header.index('job')\n",
    "        y_index = header.index('y')\n",
    "\n",
    "        for row in reader:\n",
    "            data.append(row)\n",
    "\n",
    "    eligible_jobs = set(\n",
    "        record[job_index].lower()\n",
    "        for record in data\n",
    "        if record[y_index].strip().lower() == 'yes'\n",
    "    )\n",
    "\n",
    "    profession = input(\"Enter the profession to check eligibility: \").strip().lower()\n",
    "\n",
    "    if profession in eligible_jobs:\n",
    "        print(f\"✅ The client with profession '{profession}' is ELIGIBLE for the campaign.\")\n",
    "    else:\n",
    "        print(f\"❌ The client with profession '{profession}' is NOT eligible for the campaign.\")\n",
    "\n",
    "if __name__ == \"__main__\":\n",
    "    main()\n"
   ]
  },
  {
   "cell_type": "code",
   "execution_count": null,
   "id": "70f43003-7ca5-4a7e-9149-06903718eb18",
   "metadata": {},
   "outputs": [],
   "source": [
    "# Compute max and min age for loan eligibility based on data in CSV file"
   ]
  },
  {
   "cell_type": "code",
   "execution_count": 11,
   "id": "5f78b423-3a7b-43f3-88d2-a63e1f749780",
   "metadata": {},
   "outputs": [
    {
     "name": "stdout",
     "output_type": "stream",
     "text": [
      "Minimum age for loan eligibility: 19\n",
      "Maximum age for loan eligibility: 80\n"
     ]
    }
   ],
   "source": [
    "import csv\n",
    "\n",
    "def main():\n",
    "    data = []\n",
    "\n",
    "    with open(\"C:/Users/kunal/Downloads/Data_Science_with_Phython/Deep Dive—Functions, OOPs, Modules, Errors, and Exceptions/DataSets/bank-data.csv\", mode='r') as file:\n",
    "        reader = csv.reader(file)\n",
    "        header = next(reader)\n",
    "        age_index = header.index('age')\n",
    "        y_index = header.index('y')\n",
    "\n",
    "        # Collect ages where campaign was successful\n",
    "        eligible_ages = []\n",
    "        for row in reader:\n",
    "            if row[y_index].strip().lower() == 'yes':\n",
    "                # Convert age to int and append\n",
    "                try:\n",
    "                    age = int(row[age_index])\n",
    "                    eligible_ages.append(age)\n",
    "                except ValueError:\n",
    "                    # Skip rows with invalid age\n",
    "                    pass\n",
    "\n",
    "    if eligible_ages:\n",
    "        min_age = min(eligible_ages)\n",
    "        max_age = max(eligible_ages)\n",
    "        print(f\"Minimum age for loan eligibility: {min_age}\")\n",
    "        print(f\"Maximum age for loan eligibility: {max_age}\")\n",
    "    else:\n",
    "        print(\"No eligible clients found in the dataset.\")\n",
    "\n",
    "if __name__ == \"__main__\":\n",
    "    main()\n"
   ]
  },
  {
   "cell_type": "code",
   "execution_count": null,
   "id": "c1a83d0f-5a2a-4712-90cf-70e6f8eacf8e",
   "metadata": {},
   "outputs": [],
   "source": [
    "# Store max and min age in the dictionary"
   ]
  },
  {
   "cell_type": "code",
   "execution_count": 12,
   "id": "1e28aa69-46bf-46bb-a4c4-c5b2d9f5e777",
   "metadata": {},
   "outputs": [
    {
     "name": "stdout",
     "output_type": "stream",
     "text": [
      "Age limits dictionary: {'min_age': 19, 'max_age': 80}\n"
     ]
    }
   ],
   "source": [
    "import csv\n",
    "\n",
    "def main():\n",
    "    data = []\n",
    "\n",
    "    with open(\"C:/Users/kunal/Downloads/Data_Science_with_Phython/Deep Dive—Functions, OOPs, Modules, Errors, and Exceptions/DataSets/bank-data.csv\", mode='r') as file:\n",
    "        reader = csv.reader(file)\n",
    "        header = next(reader)\n",
    "        age_index = header.index('age')\n",
    "        y_index = header.index('y')\n",
    "\n",
    "        eligible_ages = []\n",
    "        for row in reader:\n",
    "            if row[y_index].strip().lower() == 'yes':\n",
    "                try:\n",
    "                    age = int(row[age_index])\n",
    "                    eligible_ages.append(age)\n",
    "                except ValueError:\n",
    "                    pass\n",
    "\n",
    "    age_limits = {}\n",
    "    if eligible_ages:\n",
    "        age_limits['min_age'] = min(eligible_ages)\n",
    "        age_limits['max_age'] = max(eligible_ages)\n",
    "    else:\n",
    "        age_limits['min_age'] = None\n",
    "        age_limits['max_age'] = None\n",
    "\n",
    "    print(\"Age limits dictionary:\", age_limits)\n",
    "\n",
    "if __name__ == \"__main__\":\n",
    "    main()\n"
   ]
  },
  {
   "cell_type": "code",
   "execution_count": null,
   "id": "6b0070d0-c7d0-4a18-ab42-5ce729a419f1",
   "metadata": {},
   "outputs": [],
   "source": [
    "# Make the professional check case insensitive"
   ]
  },
  {
   "cell_type": "code",
   "execution_count": 13,
   "id": "14cf2a47-920d-467d-9d6e-4b233db2c13b",
   "metadata": {},
   "outputs": [
    {
     "name": "stdout",
     "output_type": "stream",
     "text": [
      "Age limits dictionary: {'min_age': 19, 'max_age': 80}\n"
     ]
    },
    {
     "name": "stdin",
     "output_type": "stream",
     "text": [
      "Enter the profession to check eligibility:  management\n"
     ]
    },
    {
     "name": "stdout",
     "output_type": "stream",
     "text": [
      "✅ The client with profession 'management' IS eligible for the campaign.\n"
     ]
    }
   ],
   "source": [
    "import csv\n",
    "\n",
    "def main():\n",
    "    data = []\n",
    "\n",
    "    with open(\"C:/Users/kunal/Downloads/Data_Science_with_Phython/Deep Dive—Functions, OOPs, Modules, Errors, and Exceptions/DataSets/bank-data.csv\", mode='r') as file:\n",
    "        reader = csv.reader(file)\n",
    "        header = next(reader)\n",
    "        age_index = header.index('age')\n",
    "        job_index = header.index('job')\n",
    "        y_index = header.index('y')\n",
    "\n",
    "        eligible_ages = []\n",
    "        eligible_jobs = set()\n",
    "\n",
    "        for row in reader:\n",
    "            if row[y_index].strip().lower() == 'yes':\n",
    "                # Collect age\n",
    "                try:\n",
    "                    age = int(row[age_index])\n",
    "                    eligible_ages.append(age)\n",
    "                except ValueError:\n",
    "                    pass\n",
    "                \n",
    "                eligible_jobs.add(row[job_index].strip().lower())\n",
    "\n",
    "    age_limits = {}\n",
    "    if eligible_ages:\n",
    "        age_limits['min_age'] = min(eligible_ages)\n",
    "        age_limits['max_age'] = max(eligible_ages)\n",
    "    else:\n",
    "        age_limits['min_age'] = None\n",
    "        age_limits['max_age'] = None\n",
    "\n",
    "    print(\"Age limits dictionary:\", age_limits)\n",
    "\n",
    "\n",
    "    profession = input(\"Enter the profession to check eligibility: \").strip().lower()\n",
    "\n",
    "    if profession in eligible_jobs:\n",
    "        print(f\"✅ The client with profession '{profession}' IS eligible for the campaign.\")\n",
    "    else:\n",
    "        print(f\"❌ The client with profession '{profession}' is NOT eligible for the campaign.\")\n",
    "\n",
    "if __name__ == \"__main__\":\n",
    "    main()\n"
   ]
  },
  {
   "cell_type": "code",
   "execution_count": null,
   "id": "bab1285b-f5bd-43f2-b085-dc12549fc8eb",
   "metadata": {},
   "outputs": [],
   "source": [
    "# Currently program ends after the check. Take the input in the whileloop and end only if the user types \"END\" for the profession"
   ]
  },
  {
   "cell_type": "code",
   "execution_count": 14,
   "id": "8fc12639-f6d8-4ac2-a868-9de553cdc315",
   "metadata": {},
   "outputs": [
    {
     "name": "stdout",
     "output_type": "stream",
     "text": [
      "Age limits dictionary: {'min_age': 19, 'max_age': 80}\n",
      "Type \"END\" to exit.\n"
     ]
    },
    {
     "name": "stdin",
     "output_type": "stream",
     "text": [
      "\n",
      "Enter the profession to check eligibility (or END to stop):  student\n"
     ]
    },
    {
     "name": "stdout",
     "output_type": "stream",
     "text": [
      "✅ The client with profession 'student' IS eligible for the campaign.\n"
     ]
    },
    {
     "name": "stdin",
     "output_type": "stream",
     "text": [
      "\n",
      "Enter the profession to check eligibility (or END to stop):  management\n"
     ]
    },
    {
     "name": "stdout",
     "output_type": "stream",
     "text": [
      "✅ The client with profession 'management' IS eligible for the campaign.\n"
     ]
    },
    {
     "name": "stdin",
     "output_type": "stream",
     "text": [
      "\n",
      "Enter the profession to check eligibility (or END to stop):  END\n"
     ]
    },
    {
     "name": "stdout",
     "output_type": "stream",
     "text": [
      "Exiting program.\n"
     ]
    }
   ],
   "source": [
    "import csv\n",
    "\n",
    "def main():\n",
    "    data = []\n",
    "\n",
    "    with open(\"C:/Users/kunal/Downloads/Data_Science_with_Phython/Deep Dive—Functions, OOPs, Modules, Errors, and Exceptions/DataSets/bank-data.csv\", mode='r') as file:\n",
    "        reader = csv.reader(file)\n",
    "        header = next(reader)\n",
    "        age_index = header.index('age')\n",
    "        job_index = header.index('job')\n",
    "        y_index = header.index('y')\n",
    "\n",
    "        eligible_ages = []\n",
    "        eligible_jobs = set()\n",
    "\n",
    "        for row in reader:\n",
    "            if row[y_index].strip().lower() == 'yes':\n",
    "                try:\n",
    "                    age = int(row[age_index])\n",
    "                    eligible_ages.append(age)\n",
    "                except ValueError:\n",
    "                    pass\n",
    "                eligible_jobs.add(row[job_index].strip().lower())\n",
    "\n",
    "    age_limits = {}\n",
    "    if eligible_ages:\n",
    "        age_limits['min_age'] = min(eligible_ages)\n",
    "        age_limits['max_age'] = max(eligible_ages)\n",
    "    else:\n",
    "        age_limits['min_age'] = None\n",
    "        age_limits['max_age'] = None\n",
    "\n",
    "    print(\"Age limits dictionary:\", age_limits)\n",
    "    print('Type \"END\" to exit.')\n",
    "\n",
    "    while True:\n",
    "        profession = input(\"\\nEnter the profession to check eligibility (or END to stop): \").strip()\n",
    "        if profession.lower() == \"end\":\n",
    "            print(\"Exiting program.\")\n",
    "            break\n",
    "\n",
    "        if profession.lower() in eligible_jobs:\n",
    "            print(f\"✅ The client with profession '{profession}' IS eligible for the campaign.\")\n",
    "        else:\n",
    "            print(f\"❌ The client with profession '{profession}' is NOT eligible for the campaign.\")\n",
    "\n",
    "if __name__ == \"__main__\":\n",
    "    main()\n"
   ]
  },
  {
   "cell_type": "code",
   "execution_count": null,
   "id": "59f6bd29-6ba4-4aa4-b7fa-d62b13fa9dc3",
   "metadata": {},
   "outputs": [],
   "source": []
  },
  {
   "cell_type": "code",
   "execution_count": null,
   "id": "cb198594-ae69-464d-9264-a3cd667ccaec",
   "metadata": {},
   "outputs": [],
   "source": []
  }
 ],
 "metadata": {
  "kernelspec": {
   "display_name": "Python [conda env:base] *",
   "language": "python",
   "name": "conda-base-py"
  },
  "language_info": {
   "codemirror_mode": {
    "name": "ipython",
    "version": 3
   },
   "file_extension": ".py",
   "mimetype": "text/x-python",
   "name": "python",
   "nbconvert_exporter": "python",
   "pygments_lexer": "ipython3",
   "version": "3.12.7"
  }
 },
 "nbformat": 4,
 "nbformat_minor": 5
}
